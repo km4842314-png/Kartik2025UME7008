{
 "cells": [
  {
   "cell_type": "markdown",
   "id": "dc1bdb36-f897-4c40-b5ec-a4b5e76a4edd",
   "metadata": {},
   "source": [
    "# Data Handling & preprocessing"
   ]
  },
  {
   "cell_type": "code",
   "execution_count": null,
   "id": "c9e9c26d-5dd1-4246-88b2-5a2c0ab495c5",
   "metadata": {},
   "outputs": [],
   "source": [
    "# Importing all the necessary libraries"
   ]
  },
  {
   "cell_type": "code",
   "execution_count": 2,
   "id": "3a39621c-64bb-4263-945f-5bf6bbb77dc8",
   "metadata": {},
   "outputs": [],
   "source": [
    "import pandas as pd"
   ]
  },
  {
   "cell_type": "code",
   "execution_count": 3,
   "id": "ba6df3b5-280a-4d10-be4b-fa2b4357286b",
   "metadata": {},
   "outputs": [],
   "source": [
    "import numpy as np"
   ]
  },
  {
   "cell_type": "code",
   "execution_count": null,
   "id": "caf8120e-5e19-4389-9846-0caf8455781e",
   "metadata": {},
   "outputs": [],
   "source": [
    "# Loading the dataset using pandas dataframe"
   ]
  },
  {
   "cell_type": "code",
   "execution_count": 4,
   "id": "69be9545-c160-49a2-9c60-61bc1b58796b",
   "metadata": {},
   "outputs": [],
   "source": [
    "data = pd.read_csv(\"apple_stock.csv\")"
   ]
  },
  {
   "cell_type": "code",
   "execution_count": null,
   "id": "4c602e80-97d1-4957-8ecc-a7ebdeacf34c",
   "metadata": {},
   "outputs": [],
   "source": [
    "# Printing dataset info"
   ]
  },
  {
   "cell_type": "code",
   "execution_count": null,
   "id": "226464d9-7a11-4d1e-a02b-23e3b8f4be5d",
   "metadata": {},
   "outputs": [],
   "source": [
    "# first 5 rows"
   ]
  },
  {
   "cell_type": "code",
   "execution_count": 5,
   "id": "d154acaa-fd5f-4511-84c8-73679da87aea",
   "metadata": {},
   "outputs": [
    {
     "data": {
      "text/html": [
       "<div>\n",
       "<style scoped>\n",
       "    .dataframe tbody tr th:only-of-type {\n",
       "        vertical-align: middle;\n",
       "    }\n",
       "\n",
       "    .dataframe tbody tr th {\n",
       "        vertical-align: top;\n",
       "    }\n",
       "\n",
       "    .dataframe thead th {\n",
       "        text-align: right;\n",
       "    }\n",
       "</style>\n",
       "<table border=\"1\" class=\"dataframe\">\n",
       "  <thead>\n",
       "    <tr style=\"text-align: right;\">\n",
       "      <th></th>\n",
       "      <th>Unnamed: 0</th>\n",
       "      <th>Adj Close</th>\n",
       "      <th>Close</th>\n",
       "      <th>High</th>\n",
       "      <th>Low</th>\n",
       "      <th>Open</th>\n",
       "      <th>Volume</th>\n",
       "    </tr>\n",
       "  </thead>\n",
       "  <tbody>\n",
       "    <tr>\n",
       "      <th>0</th>\n",
       "      <td>1980-12-12</td>\n",
       "      <td>0.098834</td>\n",
       "      <td>0.128348</td>\n",
       "      <td>0.128906</td>\n",
       "      <td>0.128348</td>\n",
       "      <td>0.128348</td>\n",
       "      <td>469033600</td>\n",
       "    </tr>\n",
       "    <tr>\n",
       "      <th>1</th>\n",
       "      <td>1980-12-15</td>\n",
       "      <td>0.093678</td>\n",
       "      <td>0.121652</td>\n",
       "      <td>0.122210</td>\n",
       "      <td>0.121652</td>\n",
       "      <td>0.122210</td>\n",
       "      <td>175884800</td>\n",
       "    </tr>\n",
       "    <tr>\n",
       "      <th>2</th>\n",
       "      <td>1980-12-16</td>\n",
       "      <td>0.086802</td>\n",
       "      <td>0.112723</td>\n",
       "      <td>0.113281</td>\n",
       "      <td>0.112723</td>\n",
       "      <td>0.113281</td>\n",
       "      <td>105728000</td>\n",
       "    </tr>\n",
       "    <tr>\n",
       "      <th>3</th>\n",
       "      <td>1980-12-17</td>\n",
       "      <td>0.088951</td>\n",
       "      <td>0.115513</td>\n",
       "      <td>0.116071</td>\n",
       "      <td>0.115513</td>\n",
       "      <td>0.115513</td>\n",
       "      <td>86441600</td>\n",
       "    </tr>\n",
       "    <tr>\n",
       "      <th>4</th>\n",
       "      <td>1980-12-18</td>\n",
       "      <td>0.091530</td>\n",
       "      <td>0.118862</td>\n",
       "      <td>0.119420</td>\n",
       "      <td>0.118862</td>\n",
       "      <td>0.118862</td>\n",
       "      <td>73449600</td>\n",
       "    </tr>\n",
       "  </tbody>\n",
       "</table>\n",
       "</div>"
      ],
      "text/plain": [
       "   Unnamed: 0  Adj Close     Close      High       Low      Open     Volume\n",
       "0  1980-12-12   0.098834  0.128348  0.128906  0.128348  0.128348  469033600\n",
       "1  1980-12-15   0.093678  0.121652  0.122210  0.121652  0.122210  175884800\n",
       "2  1980-12-16   0.086802  0.112723  0.113281  0.112723  0.113281  105728000\n",
       "3  1980-12-17   0.088951  0.115513  0.116071  0.115513  0.115513   86441600\n",
       "4  1980-12-18   0.091530  0.118862  0.119420  0.118862  0.118862   73449600"
      ]
     },
     "execution_count": 5,
     "metadata": {},
     "output_type": "execute_result"
    }
   ],
   "source": [
    "data.head()"
   ]
  },
  {
   "cell_type": "code",
   "execution_count": null,
   "id": "a88984ff-42ff-4740-ae6f-34869dd5b07d",
   "metadata": {},
   "outputs": [],
   "source": [
    "# last 5 rows"
   ]
  },
  {
   "cell_type": "code",
   "execution_count": 6,
   "id": "aeb03534-03be-4a4b-a657-21a41b4bf413",
   "metadata": {},
   "outputs": [
    {
     "data": {
      "text/html": [
       "<div>\n",
       "<style scoped>\n",
       "    .dataframe tbody tr th:only-of-type {\n",
       "        vertical-align: middle;\n",
       "    }\n",
       "\n",
       "    .dataframe tbody tr th {\n",
       "        vertical-align: top;\n",
       "    }\n",
       "\n",
       "    .dataframe thead th {\n",
       "        text-align: right;\n",
       "    }\n",
       "</style>\n",
       "<table border=\"1\" class=\"dataframe\">\n",
       "  <thead>\n",
       "    <tr style=\"text-align: right;\">\n",
       "      <th></th>\n",
       "      <th>Unnamed: 0</th>\n",
       "      <th>Adj Close</th>\n",
       "      <th>Close</th>\n",
       "      <th>High</th>\n",
       "      <th>Low</th>\n",
       "      <th>Open</th>\n",
       "      <th>Volume</th>\n",
       "    </tr>\n",
       "  </thead>\n",
       "  <tbody>\n",
       "    <tr>\n",
       "      <th>11102</th>\n",
       "      <td>2024-12-27</td>\n",
       "      <td>255.589996</td>\n",
       "      <td>255.589996</td>\n",
       "      <td>258.700012</td>\n",
       "      <td>253.059998</td>\n",
       "      <td>257.829987</td>\n",
       "      <td>42355300</td>\n",
       "    </tr>\n",
       "    <tr>\n",
       "      <th>11103</th>\n",
       "      <td>2024-12-30</td>\n",
       "      <td>252.199997</td>\n",
       "      <td>252.199997</td>\n",
       "      <td>253.500000</td>\n",
       "      <td>250.750000</td>\n",
       "      <td>252.229996</td>\n",
       "      <td>35557500</td>\n",
       "    </tr>\n",
       "    <tr>\n",
       "      <th>11104</th>\n",
       "      <td>2024-12-31</td>\n",
       "      <td>250.419998</td>\n",
       "      <td>250.419998</td>\n",
       "      <td>253.279999</td>\n",
       "      <td>249.429993</td>\n",
       "      <td>252.440002</td>\n",
       "      <td>39480700</td>\n",
       "    </tr>\n",
       "    <tr>\n",
       "      <th>11105</th>\n",
       "      <td>2025-01-02</td>\n",
       "      <td>243.850006</td>\n",
       "      <td>243.850006</td>\n",
       "      <td>249.100006</td>\n",
       "      <td>241.820007</td>\n",
       "      <td>248.929993</td>\n",
       "      <td>55558000</td>\n",
       "    </tr>\n",
       "    <tr>\n",
       "      <th>11106</th>\n",
       "      <td>2025-01-03</td>\n",
       "      <td>243.860001</td>\n",
       "      <td>243.860001</td>\n",
       "      <td>244.179993</td>\n",
       "      <td>241.889999</td>\n",
       "      <td>243.369995</td>\n",
       "      <td>15135053</td>\n",
       "    </tr>\n",
       "  </tbody>\n",
       "</table>\n",
       "</div>"
      ],
      "text/plain": [
       "       Unnamed: 0   Adj Close       Close        High         Low        Open  \\\n",
       "11102  2024-12-27  255.589996  255.589996  258.700012  253.059998  257.829987   \n",
       "11103  2024-12-30  252.199997  252.199997  253.500000  250.750000  252.229996   \n",
       "11104  2024-12-31  250.419998  250.419998  253.279999  249.429993  252.440002   \n",
       "11105  2025-01-02  243.850006  243.850006  249.100006  241.820007  248.929993   \n",
       "11106  2025-01-03  243.860001  243.860001  244.179993  241.889999  243.369995   \n",
       "\n",
       "         Volume  \n",
       "11102  42355300  \n",
       "11103  35557500  \n",
       "11104  39480700  \n",
       "11105  55558000  \n",
       "11106  15135053  "
      ]
     },
     "execution_count": 6,
     "metadata": {},
     "output_type": "execute_result"
    }
   ],
   "source": [
    "data.tail()"
   ]
  },
  {
   "cell_type": "code",
   "execution_count": 7,
   "id": "d0bfb95a-4d46-4970-a6c9-9cc21d3020bc",
   "metadata": {},
   "outputs": [],
   "source": [
    "# number of rows and couloumn"
   ]
  },
  {
   "cell_type": "code",
   "execution_count": 9,
   "id": "8213b4fe-381f-4d35-9b1f-3b9cc10c8a52",
   "metadata": {},
   "outputs": [
    {
     "data": {
      "text/plain": [
       "(11107, 7)"
      ]
     },
     "execution_count": 9,
     "metadata": {},
     "output_type": "execute_result"
    }
   ],
   "source": [
    "data.shape"
   ]
  },
  {
   "cell_type": "code",
   "execution_count": 10,
   "id": "55dead46-fa53-4065-b784-cf657e38bf97",
   "metadata": {},
   "outputs": [],
   "source": [
    "# data info"
   ]
  },
  {
   "cell_type": "code",
   "execution_count": 11,
   "id": "556ea14e-65fc-4d7e-9539-ab4bf0b4708f",
   "metadata": {},
   "outputs": [
    {
     "name": "stdout",
     "output_type": "stream",
     "text": [
      "<class 'pandas.core.frame.DataFrame'>\n",
      "RangeIndex: 11107 entries, 0 to 11106\n",
      "Data columns (total 7 columns):\n",
      " #   Column      Non-Null Count  Dtype  \n",
      "---  ------      --------------  -----  \n",
      " 0   Unnamed: 0  11107 non-null  object \n",
      " 1   Adj Close   11107 non-null  float64\n",
      " 2   Close       11107 non-null  float64\n",
      " 3   High        11107 non-null  float64\n",
      " 4   Low         11107 non-null  float64\n",
      " 5   Open        11107 non-null  float64\n",
      " 6   Volume      11107 non-null  int64  \n",
      "dtypes: float64(5), int64(1), object(1)\n",
      "memory usage: 607.5+ KB\n"
     ]
    }
   ],
   "source": [
    "data.info()"
   ]
  },
  {
   "cell_type": "code",
   "execution_count": 12,
   "id": "b5f56684-988e-46de-9d27-d93b336d3773",
   "metadata": {},
   "outputs": [],
   "source": [
    "# data discription"
   ]
  },
  {
   "cell_type": "code",
   "execution_count": 14,
   "id": "ca88b0d4-d0b0-472e-b843-db547ff77313",
   "metadata": {},
   "outputs": [
    {
     "data": {
      "text/html": [
       "<div>\n",
       "<style scoped>\n",
       "    .dataframe tbody tr th:only-of-type {\n",
       "        vertical-align: middle;\n",
       "    }\n",
       "\n",
       "    .dataframe tbody tr th {\n",
       "        vertical-align: top;\n",
       "    }\n",
       "\n",
       "    .dataframe thead th {\n",
       "        text-align: right;\n",
       "    }\n",
       "</style>\n",
       "<table border=\"1\" class=\"dataframe\">\n",
       "  <thead>\n",
       "    <tr style=\"text-align: right;\">\n",
       "      <th></th>\n",
       "      <th>Adj Close</th>\n",
       "      <th>Close</th>\n",
       "      <th>High</th>\n",
       "      <th>Low</th>\n",
       "      <th>Open</th>\n",
       "      <th>Volume</th>\n",
       "    </tr>\n",
       "  </thead>\n",
       "  <tbody>\n",
       "    <tr>\n",
       "      <th>count</th>\n",
       "      <td>11107.000000</td>\n",
       "      <td>11107.000000</td>\n",
       "      <td>11107.000000</td>\n",
       "      <td>11107.000000</td>\n",
       "      <td>11107.000000</td>\n",
       "      <td>1.110700e+04</td>\n",
       "    </tr>\n",
       "    <tr>\n",
       "      <th>mean</th>\n",
       "      <td>23.522229</td>\n",
       "      <td>24.357607</td>\n",
       "      <td>24.598169</td>\n",
       "      <td>24.092608</td>\n",
       "      <td>24.339076</td>\n",
       "      <td>3.154341e+08</td>\n",
       "    </tr>\n",
       "    <tr>\n",
       "      <th>std</th>\n",
       "      <td>49.767881</td>\n",
       "      <td>50.217498</td>\n",
       "      <td>50.691902</td>\n",
       "      <td>49.682631</td>\n",
       "      <td>50.166818</td>\n",
       "      <td>3.348735e+08</td>\n",
       "    </tr>\n",
       "    <tr>\n",
       "      <th>min</th>\n",
       "      <td>0.037815</td>\n",
       "      <td>0.049107</td>\n",
       "      <td>0.049665</td>\n",
       "      <td>0.049107</td>\n",
       "      <td>0.049665</td>\n",
       "      <td>0.000000e+00</td>\n",
       "    </tr>\n",
       "    <tr>\n",
       "      <th>25%</th>\n",
       "      <td>0.243402</td>\n",
       "      <td>0.300290</td>\n",
       "      <td>0.306362</td>\n",
       "      <td>0.292411</td>\n",
       "      <td>0.300090</td>\n",
       "      <td>1.111164e+08</td>\n",
       "    </tr>\n",
       "    <tr>\n",
       "      <th>50%</th>\n",
       "      <td>0.446682</td>\n",
       "      <td>0.542411</td>\n",
       "      <td>0.553393</td>\n",
       "      <td>0.534598</td>\n",
       "      <td>0.542679</td>\n",
       "      <td>2.036944e+08</td>\n",
       "    </tr>\n",
       "    <tr>\n",
       "      <th>75%</th>\n",
       "      <td>18.260086</td>\n",
       "      <td>21.397143</td>\n",
       "      <td>21.569285</td>\n",
       "      <td>21.115715</td>\n",
       "      <td>21.367679</td>\n",
       "      <td>3.960418e+08</td>\n",
       "    </tr>\n",
       "    <tr>\n",
       "      <th>max</th>\n",
       "      <td>259.019989</td>\n",
       "      <td>259.019989</td>\n",
       "      <td>260.100006</td>\n",
       "      <td>257.630005</td>\n",
       "      <td>258.190002</td>\n",
       "      <td>7.421641e+09</td>\n",
       "    </tr>\n",
       "  </tbody>\n",
       "</table>\n",
       "</div>"
      ],
      "text/plain": [
       "          Adj Close         Close          High           Low          Open  \\\n",
       "count  11107.000000  11107.000000  11107.000000  11107.000000  11107.000000   \n",
       "mean      23.522229     24.357607     24.598169     24.092608     24.339076   \n",
       "std       49.767881     50.217498     50.691902     49.682631     50.166818   \n",
       "min        0.037815      0.049107      0.049665      0.049107      0.049665   \n",
       "25%        0.243402      0.300290      0.306362      0.292411      0.300090   \n",
       "50%        0.446682      0.542411      0.553393      0.534598      0.542679   \n",
       "75%       18.260086     21.397143     21.569285     21.115715     21.367679   \n",
       "max      259.019989    259.019989    260.100006    257.630005    258.190002   \n",
       "\n",
       "             Volume  \n",
       "count  1.110700e+04  \n",
       "mean   3.154341e+08  \n",
       "std    3.348735e+08  \n",
       "min    0.000000e+00  \n",
       "25%    1.111164e+08  \n",
       "50%    2.036944e+08  \n",
       "75%    3.960418e+08  \n",
       "max    7.421641e+09  "
      ]
     },
     "execution_count": 14,
     "metadata": {},
     "output_type": "execute_result"
    }
   ],
   "source": [
    "data.describe()"
   ]
  },
  {
   "cell_type": "code",
   "execution_count": 15,
   "id": "2586a74d-63ce-49a1-919c-3d237970c5bf",
   "metadata": {},
   "outputs": [],
   "source": [
    "# Handling missing values (count and remove)"
   ]
  },
  {
   "cell_type": "code",
   "execution_count": 16,
   "id": "a8ae0398-d8f3-4510-a9ac-77bb2473dc9f",
   "metadata": {},
   "outputs": [
    {
     "data": {
      "text/plain": [
       "Unnamed: 0    0\n",
       "Adj Close     0\n",
       "Close         0\n",
       "High          0\n",
       "Low           0\n",
       "Open          0\n",
       "Volume        0\n",
       "dtype: int64"
      ]
     },
     "execution_count": 16,
     "metadata": {},
     "output_type": "execute_result"
    }
   ],
   "source": [
    "data.isnull().sum()"
   ]
  },
  {
   "cell_type": "code",
   "execution_count": 17,
   "id": "c94e9ea7-6827-4f83-b910-d84aed36ad74",
   "metadata": {},
   "outputs": [],
   "source": [
    "# adding atleast 1 new feature"
   ]
  },
  {
   "cell_type": "code",
   "execution_count": 18,
   "id": "457d94cc-c420-4b22-9ba4-a1e895e86605",
   "metadata": {},
   "outputs": [],
   "source": [
    "data['count'] = data['Close'].apply(lambda x: len(str(x)))\n"
   ]
  },
  {
   "cell_type": "code",
   "execution_count": 19,
   "id": "dea1cf66-00ac-4f2e-8865-5b41c75f33ad",
   "metadata": {},
   "outputs": [
    {
     "name": "stdout",
     "output_type": "stream",
     "text": [
      "       Unnamed: 0   Adj Close       Close        High         Low        Open  \\\n",
      "0      1980-12-12    0.098834    0.128348    0.128906    0.128348    0.128348   \n",
      "1      1980-12-15    0.093678    0.121652    0.122210    0.121652    0.122210   \n",
      "2      1980-12-16    0.086802    0.112723    0.113281    0.112723    0.113281   \n",
      "3      1980-12-17    0.088951    0.115513    0.116071    0.115513    0.115513   \n",
      "4      1980-12-18    0.091530    0.118862    0.119420    0.118862    0.118862   \n",
      "...           ...         ...         ...         ...         ...         ...   \n",
      "11102  2024-12-27  255.589996  255.589996  258.700012  253.059998  257.829987   \n",
      "11103  2024-12-30  252.199997  252.199997  253.500000  250.750000  252.229996   \n",
      "11104  2024-12-31  250.419998  250.419998  253.279999  249.429993  252.440002   \n",
      "11105  2025-01-02  243.850006  243.850006  249.100006  241.820007  248.929993   \n",
      "11106  2025-01-03  243.860001  243.860001  244.179993  241.889999  243.369995   \n",
      "\n",
      "          Volume  count  \n",
      "0      469033600     18  \n",
      "1      175884800     18  \n",
      "2      105728000     18  \n",
      "3       86441600     18  \n",
      "4       73449600     18  \n",
      "...          ...    ...  \n",
      "11102   42355300     18  \n",
      "11103   35557500     17  \n",
      "11104   39480700     17  \n",
      "11105   55558000     17  \n",
      "11106   15135053     17  \n",
      "\n",
      "[11107 rows x 8 columns]\n"
     ]
    }
   ],
   "source": [
    "print(data)"
   ]
  },
  {
   "cell_type": "code",
   "execution_count": 20,
   "id": "5478e363-4c5f-4606-bda5-7c0023fbabd8",
   "metadata": {},
   "outputs": [],
   "source": [
    "np_array = data.to_numpy()"
   ]
  },
  {
   "cell_type": "code",
   "execution_count": 21,
   "id": "594f82f9-ed75-4bd4-9f2a-4836882b92c1",
   "metadata": {},
   "outputs": [
    {
     "data": {
      "text/plain": [
       "dtype('O')"
      ]
     },
     "execution_count": 21,
     "metadata": {},
     "output_type": "execute_result"
    }
   ],
   "source": [
    "np_array.dtype"
   ]
  },
  {
   "cell_type": "code",
   "execution_count": 22,
   "id": "fbc6cb35-8b38-48f4-91e7-433da01b2b0d",
   "metadata": {},
   "outputs": [
    {
     "data": {
      "text/plain": [
       "(11107, 8)"
      ]
     },
     "execution_count": 22,
     "metadata": {},
     "output_type": "execute_result"
    }
   ],
   "source": [
    "np_array.shape"
   ]
  },
  {
   "cell_type": "code",
   "execution_count": null,
   "id": "f5afc5c7-8282-4c96-9a58-0cfa8254a7f0",
   "metadata": {},
   "outputs": [],
   "source": [
    "# performing train split function"
   ]
  },
  {
   "cell_type": "code",
   "execution_count": 32,
   "id": "ad1bce98-1d41-4668-a7da-af7886e2d2a9",
   "metadata": {},
   "outputs": [],
   "source": [
    "from sklearn.model_selection import train_test_split"
   ]
  },
  {
   "cell_type": "code",
   "execution_count": 33,
   "id": "57b1073e-9450-4a58-a76d-bd41a54a7b2a",
   "metadata": {},
   "outputs": [],
   "source": [
    "X = data.drop(\"count\", axis=1)"
   ]
  },
  {
   "cell_type": "code",
   "execution_count": 34,
   "id": "c0ad60cf-771e-4783-abe9-3351660379f9",
   "metadata": {},
   "outputs": [],
   "source": [
    "y = data[\"count\"]"
   ]
  },
  {
   "cell_type": "code",
   "execution_count": 36,
   "id": "a24f29a1-5de1-45f5-a370-5bb4516c90b7",
   "metadata": {},
   "outputs": [],
   "source": [
    "X_train, X_test, y_train, y_test = train_test_split(X, y, test_size=0.1, random_state=34)"
   ]
  },
  {
   "cell_type": "code",
   "execution_count": 37,
   "id": "fe075c1a-4538-429e-bb93-71443f64ac1f",
   "metadata": {},
   "outputs": [
    {
     "name": "stdout",
     "output_type": "stream",
     "text": [
      "       Unnamed: 0   Adj Close     Close        High         Low        Open  \\\n",
      "0      1980-12-12    0.098834  0.000306    0.128906    0.128348    0.128348   \n",
      "1      1980-12-15    0.093678  0.000280    0.122210    0.121652    0.122210   \n",
      "2      1980-12-16    0.086802  0.000246    0.113281    0.112723    0.113281   \n",
      "3      1980-12-17    0.088951  0.000256    0.116071    0.115513    0.115513   \n",
      "4      1980-12-18    0.091530  0.000269    0.119420    0.118862    0.118862   \n",
      "...           ...         ...       ...         ...         ...         ...   \n",
      "11102  2024-12-27  255.589996  0.986755  258.700012  253.059998  257.829987   \n",
      "11103  2024-12-30  252.199997  0.973665  253.500000  250.750000  252.229996   \n",
      "11104  2024-12-31  250.419998  0.966792  253.279999  249.429993  252.440002   \n",
      "11105  2025-01-02  243.850006  0.941422  249.100006  241.820007  248.929993   \n",
      "11106  2025-01-03  243.860001  0.941461  244.179993  241.889999  243.369995   \n",
      "\n",
      "          Volume     count  \n",
      "0      469033600  1.000000  \n",
      "1      175884800  1.000000  \n",
      "2      105728000  1.000000  \n",
      "3       86441600  1.000000  \n",
      "4       73449600  1.000000  \n",
      "...          ...       ...  \n",
      "11102   42355300  1.000000  \n",
      "11103   35557500  0.933333  \n",
      "11104   39480700  0.933333  \n",
      "11105   55558000  0.933333  \n",
      "11106   15135053  0.933333  \n",
      "\n",
      "[11107 rows x 8 columns]\n"
     ]
    }
   ],
   "source": [
    "print(data)"
   ]
  },
  {
   "cell_type": "code",
   "execution_count": 38,
   "id": "f69f1230-687c-48bc-a9bc-1933ad8baac4",
   "metadata": {},
   "outputs": [
    {
     "data": {
      "text/html": [
       "<div>\n",
       "<style scoped>\n",
       "    .dataframe tbody tr th:only-of-type {\n",
       "        vertical-align: middle;\n",
       "    }\n",
       "\n",
       "    .dataframe tbody tr th {\n",
       "        vertical-align: top;\n",
       "    }\n",
       "\n",
       "    .dataframe thead th {\n",
       "        text-align: right;\n",
       "    }\n",
       "</style>\n",
       "<table border=\"1\" class=\"dataframe\">\n",
       "  <thead>\n",
       "    <tr style=\"text-align: right;\">\n",
       "      <th></th>\n",
       "      <th>Unnamed: 0</th>\n",
       "      <th>Adj Close</th>\n",
       "      <th>Close</th>\n",
       "      <th>High</th>\n",
       "      <th>Low</th>\n",
       "      <th>Open</th>\n",
       "      <th>Volume</th>\n",
       "    </tr>\n",
       "  </thead>\n",
       "  <tbody>\n",
       "    <tr>\n",
       "      <th>3119</th>\n",
       "      <td>1993-04-15</td>\n",
       "      <td>0.343492</td>\n",
       "      <td>0.001439</td>\n",
       "      <td>0.430804</td>\n",
       "      <td>0.417411</td>\n",
       "      <td>0.430804</td>\n",
       "      <td>218702400</td>\n",
       "    </tr>\n",
       "    <tr>\n",
       "      <th>5054</th>\n",
       "      <td>2000-12-11</td>\n",
       "      <td>0.228774</td>\n",
       "      <td>0.000858</td>\n",
       "      <td>0.274554</td>\n",
       "      <td>0.265625</td>\n",
       "      <td>0.271205</td>\n",
       "      <td>332511200</td>\n",
       "    </tr>\n",
       "    <tr>\n",
       "      <th>8500</th>\n",
       "      <td>2014-08-26</td>\n",
       "      <td>22.370623</td>\n",
       "      <td>0.097205</td>\n",
       "      <td>25.375000</td>\n",
       "      <td>25.215000</td>\n",
       "      <td>25.355000</td>\n",
       "      <td>132608000</td>\n",
       "    </tr>\n",
       "    <tr>\n",
       "      <th>3584</th>\n",
       "      <td>1995-02-15</td>\n",
       "      <td>0.317820</td>\n",
       "      <td>0.001278</td>\n",
       "      <td>0.388393</td>\n",
       "      <td>0.379464</td>\n",
       "      <td>0.386161</td>\n",
       "      <td>184475200</td>\n",
       "    </tr>\n",
       "    <tr>\n",
       "      <th>3664</th>\n",
       "      <td>1995-06-12</td>\n",
       "      <td>0.330752</td>\n",
       "      <td>0.001333</td>\n",
       "      <td>0.397321</td>\n",
       "      <td>0.391741</td>\n",
       "      <td>0.392857</td>\n",
       "      <td>212116800</td>\n",
       "    </tr>\n",
       "  </tbody>\n",
       "</table>\n",
       "</div>"
      ],
      "text/plain": [
       "      Unnamed: 0  Adj Close     Close       High        Low       Open  \\\n",
       "3119  1993-04-15   0.343492  0.001439   0.430804   0.417411   0.430804   \n",
       "5054  2000-12-11   0.228774  0.000858   0.274554   0.265625   0.271205   \n",
       "8500  2014-08-26  22.370623  0.097205  25.375000  25.215000  25.355000   \n",
       "3584  1995-02-15   0.317820  0.001278   0.388393   0.379464   0.386161   \n",
       "3664  1995-06-12   0.330752  0.001333   0.397321   0.391741   0.392857   \n",
       "\n",
       "         Volume  \n",
       "3119  218702400  \n",
       "5054  332511200  \n",
       "8500  132608000  \n",
       "3584  184475200  \n",
       "3664  212116800  "
      ]
     },
     "execution_count": 38,
     "metadata": {},
     "output_type": "execute_result"
    }
   ],
   "source": [
    "X_train.head()"
   ]
  },
  {
   "cell_type": "code",
   "execution_count": 39,
   "id": "1c7ed577-d810-4fbf-aede-fb2e659b589a",
   "metadata": {},
   "outputs": [
    {
     "data": {
      "text/plain": [
       "3119    0.333333\n",
       "5054    1.000000\n",
       "8500    0.933333\n",
       "3584    1.000000\n",
       "3664    1.000000\n",
       "Name: count, dtype: float64"
      ]
     },
     "execution_count": 39,
     "metadata": {},
     "output_type": "execute_result"
    }
   ],
   "source": [
    "y_train.head()"
   ]
  },
  {
   "cell_type": "code",
   "execution_count": 46,
   "id": "8ee4dfe3-f060-4887-99dd-e8da0071e4c7",
   "metadata": {},
   "outputs": [],
   "source": [
    "# Removing duplicate & normalize/scale"
   ]
  },
  {
   "cell_type": "code",
   "execution_count": 47,
   "id": "59f1d213-3b51-4ed1-a23a-9e4ba8fd501b",
   "metadata": {},
   "outputs": [],
   "source": [
    "data = data.drop_duplicates()"
   ]
  },
  {
   "cell_type": "code",
   "execution_count": 48,
   "id": "74f76e3a-4604-4ed9-a6ee-366fd9e70422",
   "metadata": {},
   "outputs": [],
   "source": [
    "from sklearn.preprocessing import MinMaxScaler"
   ]
  },
  {
   "cell_type": "code",
   "execution_count": 51,
   "id": "e8401652-ab1f-4ae7-88a4-691dbaf0f98a",
   "metadata": {},
   "outputs": [],
   "source": [
    "scaler = MinMaxScaler()"
   ]
  },
  {
   "cell_type": "code",
   "execution_count": 52,
   "id": "8ed393f4-9bb6-481a-9282-c16b790fb6ac",
   "metadata": {},
   "outputs": [],
   "source": [
    "scaled_data = scaler.fit_transform(data.select_dtypes(include=[np.number]))\n"
   ]
  },
  {
   "cell_type": "code",
   "execution_count": 53,
   "id": "06077fb6-97ef-49e5-a837-ed2b231ac24e",
   "metadata": {},
   "outputs": [],
   "source": [
    "data_scaled = pd.DataFrame(scaled_data, columns=data.select_dtypes(include=[np.number]).columns)\n"
   ]
  },
  {
   "cell_type": "code",
   "execution_count": 54,
   "id": "d6174b0d-124d-4bbb-ab03-a96ed600782b",
   "metadata": {},
   "outputs": [
    {
     "name": "stdout",
     "output_type": "stream",
     "text": [
      "       Adj Close     Close      High       Low      Open    Volume     count\n",
      "0       0.000236  0.000306  0.000305  0.000308  0.000305  0.063198  1.000000\n",
      "1       0.000216  0.000280  0.000279  0.000282  0.000281  0.023699  1.000000\n",
      "2       0.000189  0.000246  0.000245  0.000247  0.000246  0.014246  1.000000\n",
      "3       0.000197  0.000256  0.000255  0.000258  0.000255  0.011647  1.000000\n",
      "4       0.000207  0.000269  0.000268  0.000271  0.000268  0.009897  1.000000\n",
      "...          ...       ...       ...       ...       ...       ...       ...\n",
      "11102   0.986756  0.986755  0.994616  0.982258  0.998605  0.005707  1.000000\n",
      "11103   0.973666  0.973665  0.974620  0.973290  0.976912  0.004791  0.933333\n",
      "11104   0.966793  0.966792  0.973774  0.968165  0.977725  0.005320  0.933333\n",
      "11105   0.941425  0.941422  0.957700  0.938621  0.964128  0.007486  0.933333\n",
      "11106   0.941463  0.941461  0.938781  0.938893  0.942589  0.002039  0.933333\n",
      "\n",
      "[11107 rows x 7 columns]\n"
     ]
    }
   ],
   "source": [
    "print(data_scaled)"
   ]
  },
  {
   "cell_type": "markdown",
   "id": "689c9ca5-82af-4114-b16b-a8d7c2ef406e",
   "metadata": {},
   "source": [
    "# Exploratory data Analysis"
   ]
  },
  {
   "cell_type": "code",
   "execution_count": 55,
   "id": "9a71a7d2-a15a-49ac-9448-353d7e502fb2",
   "metadata": {},
   "outputs": [],
   "source": [
    "# summary stat"
   ]
  },
  {
   "cell_type": "code",
   "execution_count": 57,
   "id": "522d5870-7a0d-407c-a34c-3bdea4494875",
   "metadata": {},
   "outputs": [
    {
     "data": {
      "text/plain": [
       "Adj Close    2.352223e+01\n",
       "Close        9.386577e-02\n",
       "High         2.459817e+01\n",
       "Low          2.409261e+01\n",
       "Open         2.433908e+01\n",
       "Volume       3.154341e+08\n",
       "count        9.420486e-01\n",
       "dtype: float64"
      ]
     },
     "execution_count": 57,
     "metadata": {},
     "output_type": "execute_result"
    }
   ],
   "source": [
    "data.mean(numeric_only=True)"
   ]
  },
  {
   "cell_type": "code",
   "execution_count": 59,
   "id": "c1ed3398-9e42-45af-b7e5-7053c4bad2ab",
   "metadata": {},
   "outputs": [
    {
     "data": {
      "text/plain": [
       "Adj Close    4.466817e-01\n",
       "Close        1.904863e-03\n",
       "High         5.533930e-01\n",
       "Low          5.345980e-01\n",
       "Open         5.426790e-01\n",
       "Volume       2.036944e+08\n",
       "count        1.000000e+00\n",
       "dtype: float64"
      ]
     },
     "execution_count": 59,
     "metadata": {},
     "output_type": "execute_result"
    }
   ],
   "source": [
    "data.median(numeric_only=True)"
   ]
  },
  {
   "cell_type": "code",
   "execution_count": 60,
   "id": "a770e27f-0e37-42f5-8a4a-bd2248b01ef7",
   "metadata": {},
   "outputs": [
    {
     "data": {
      "text/plain": [
       "Adj Close    4.976788e+01\n",
       "Close        1.939118e-01\n",
       "High         5.069190e+01\n",
       "Low          4.968263e+01\n",
       "Open         5.016682e+01\n",
       "Volume       3.348735e+08\n",
       "count        1.625652e-01\n",
       "dtype: float64"
      ]
     },
     "execution_count": 60,
     "metadata": {},
     "output_type": "execute_result"
    }
   ],
   "source": [
    "data.std(numeric_only=True)"
   ]
  },
  {
   "cell_type": "code",
   "execution_count": 61,
   "id": "9ee7cbed-dd6e-4d8b-a426-23bc55f3e4bd",
   "metadata": {},
   "outputs": [],
   "source": [
    "# Correlation Check"
   ]
  },
  {
   "cell_type": "code",
   "execution_count": 62,
   "id": "ef9bb91b-009b-45c2-95bf-df8a7c2ed30c",
   "metadata": {},
   "outputs": [],
   "source": [
    "correlation = data.corr(numeric_only=True)"
   ]
  },
  {
   "cell_type": "code",
   "execution_count": 63,
   "id": "7bee93e3-4591-499b-ba67-c01c2426d7fe",
   "metadata": {},
   "outputs": [
    {
     "name": "stdout",
     "output_type": "stream",
     "text": [
      "           Adj Close     Close      High       Low      Open    Volume  \\\n",
      "Adj Close   1.000000  0.999816  0.999752  0.999767  0.999694 -0.265350   \n",
      "Close       0.999816  1.000000  0.999946  0.999946  0.999884 -0.264132   \n",
      "High        0.999752  0.999946  1.000000  0.999929  0.999947 -0.263705   \n",
      "Low         0.999767  0.999946  0.999929  1.000000  0.999945 -0.264549   \n",
      "Open        0.999694  0.999884  0.999947  0.999945  1.000000 -0.264034   \n",
      "Volume     -0.265350 -0.264132 -0.263705 -0.264549 -0.264034  1.000000   \n",
      "count      -0.050242 -0.050939 -0.050926 -0.051135 -0.050995  0.028658   \n",
      "\n",
      "              count  \n",
      "Adj Close -0.050242  \n",
      "Close     -0.050939  \n",
      "High      -0.050926  \n",
      "Low       -0.051135  \n",
      "Open      -0.050995  \n",
      "Volume     0.028658  \n",
      "count      1.000000  \n"
     ]
    }
   ],
   "source": [
    "print(correlation)"
   ]
  },
  {
   "cell_type": "code",
   "execution_count": 64,
   "id": "de301a61-3865-41b1-94df-51245f9a03cf",
   "metadata": {},
   "outputs": [],
   "source": [
    "# create plot "
   ]
  },
  {
   "cell_type": "code",
   "execution_count": 66,
   "id": "73d6d4c5-2388-4fd5-99aa-f7207c965348",
   "metadata": {},
   "outputs": [],
   "source": [
    "import seaborn as sns"
   ]
  },
  {
   "cell_type": "code",
   "execution_count": 67,
   "id": "f16fec92-253e-44a7-b1b5-d641d1fe2340",
   "metadata": {},
   "outputs": [],
   "source": [
    "import matplotlib.pyplot as plt"
   ]
  },
  {
   "cell_type": "code",
   "execution_count": null,
   "id": "7e6173d2-1d6e-4224-a47d-646b6c5a3c22",
   "metadata": {},
   "outputs": [],
   "source": [
    "# scatter plot"
   ]
  },
  {
   "cell_type": "code",
   "execution_count": 70,
   "id": "5c47820b-c957-4c98-a70a-0c02a56522fd",
   "metadata": {},
   "outputs": [
    {
     "data": {
      "image/png": "[encoded data removed]",
      "text/plain": [
       "<Figure size 640x480 with 1 Axes>"
      ]
     },
     "metadata": {},
     "output_type": "display_data"
    }
   ],
   "source": [
    "plt.scatter(data['count'], data['Close'])\n",
    "plt.title('Scatter Plot: count vs Close')\n",
    "plt.xlabel('count')\n",
    "plt.ylabel('Close')\n",
    "plt.show()"
   ]
  },
  {
   "cell_type": "code",
   "execution_count": null,
   "id": "d6a427be-53fd-40b8-80a8-19051fc9c73f",
   "metadata": {},
   "outputs": [],
   "source": [
    "#histogram"
   ]
  },
  {
   "cell_type": "code",
   "execution_count": 72,
   "id": "95063a00-19d6-47b1-a868-5720a537c8d8",
   "metadata": {},
   "outputs": [
    {
     "data": {
      "image/png": "[encoded data removed]",
      "text/plain": [
       "<Figure size 640x480 with 1 Axes>"
      ]
     },
     "metadata": {},
     "output_type": "display_data"
    }
   ],
   "source": [
    "data['count'].hist(bins=30)\n",
    "plt.title('Histogram of count')\n",
    "plt.xlabel('count')\n",
    "plt.ylabel('Frequency')\n",
    "plt.show()"
   ]
  },
  {
   "cell_type": "code",
   "execution_count": null,
   "id": "d0a78328-1b51-4582-80cc-d1c455a5a053",
   "metadata": {},
   "outputs": [],
   "source": [
    "#bar graph"
   ]
  },
  {
   "cell_type": "code",
   "execution_count": 73,
   "id": "9d9f084d-3b24-408c-9dac-6fce21af46e1",
   "metadata": {},
   "outputs": [
    {
     "data": {
      "image/png": "[encoded data removed]",
      "text/plain": [
       "<Figure size 640x480 with 1 Axes>"
      ]
     },
     "metadata": {},
     "output_type": "display_data"
    }
   ],
   "source": [
    "data['count'].value_counts().plot(kind='bar')\n",
    "plt.title('Bar Graph of categorical_column')\n",
    "plt.xlabel('Category')\n",
    "plt.ylabel('Count')\n",
    "plt.show()"
   ]
  },
  {
   "cell_type": "code",
   "execution_count": null,
   "id": "624a602c-5d00-4081-a485-8f6fb18c8736",
   "metadata": {},
   "outputs": [],
   "source": [
    "# bar graph"
   ]
  },
  {
   "cell_type": "code",
   "execution_count": 74,
   "id": "bacd10c0-cbdd-4837-93af-dbaab3263875",
   "metadata": {},
   "outputs": [
    {
     "data": {
      "image/png": "[encoded data removed]",
      "text/plain": [
       "<Figure size 640x480 with 1 Axes>"
      ]
     },
     "metadata": {},
     "output_type": "display_data"
    }
   ],
   "source": [
    "sns.boxplot(data=data[['count', 'Close']])\n",
    "plt.title('Boxplot')\n",
    "plt.show()"
   ]
  },
  {
   "cell_type": "code",
   "execution_count": null,
   "id": "c4a9e7da-08c7-44f6-9075-c3718d324537",
   "metadata": {},
   "outputs": [],
   "source": [
    "# heatmap"
   ]
  },
  {
   "cell_type": "code",
   "execution_count": 79,
   "id": "9740f86d-a7ec-4d55-903f-19133f845f56",
   "metadata": {},
   "outputs": [
    {
     "data": {
      "image/png": "[encoded data removed]",
      "text/plain": [
       "<Figure size 1000x800 with 2 Axes>"
      ]
     },
     "metadata": {},
     "output_type": "display_data"
    }
   ],
   "source": [
    "plt.figure(figsize=(10, 8))\n",
    "sns.heatmap(correlation, annot=True, cmap='coolwarm')\n",
    "plt.title('Correlation Heatmap')\n",
    "plt.show()\n"
   ]
  },
  {
   "cell_type": "markdown",
   "id": "43a49af5-963e-4287-b574-a2d83d2aab08",
   "metadata": {},
   "source": [
    "# sklearn opretion"
   ]
  },
  {
   "cell_type": "code",
   "execution_count": null,
   "id": "b7555096-687f-4f35-aa19-242f7bcbe1b0",
   "metadata": {},
   "outputs": [],
   "source": [
    "# Importing Datasets from Sklearn"
   ]
  },
  {
   "cell_type": "code",
   "execution_count": 80,
   "id": "d4f8901d-0d7f-4ee8-8aef-08e4bfef0734",
   "metadata": {},
   "outputs": [],
   "source": [
    "from sklearn.datasets import load_iris"
   ]
  },
  {
   "cell_type": "code",
   "execution_count": 81,
   "id": "1ebe2ad4-5631-4339-bcf2-f6beb6a72ece",
   "metadata": {},
   "outputs": [
    {
     "name": "stdout",
     "output_type": "stream",
     "text": [
      "   sepal length (cm)  sepal width (cm)  petal length (cm)  petal width (cm)  \\\n",
      "0                5.1               3.5                1.4               0.2   \n",
      "1                4.9               3.0                1.4               0.2   \n",
      "2                4.7               3.2                1.3               0.2   \n",
      "3                4.6               3.1                1.5               0.2   \n",
      "4                5.0               3.6                1.4               0.2   \n",
      "\n",
      "   target  \n",
      "0       0  \n",
      "1       0  \n",
      "2       0  \n",
      "3       0  \n",
      "4       0  \n"
     ]
    }
   ],
   "source": [
    "iris = load_iris()\n",
    "data = pd.DataFrame(iris.data, columns=iris.feature_names)\n",
    "data['target'] = iris.target\n",
    "print(data.head())\n"
   ]
  },
  {
   "cell_type": "code",
   "execution_count": 82,
   "id": "397701fc-d7b3-42c1-9d96-8c39728a8598",
   "metadata": {},
   "outputs": [],
   "source": [
    "# Replaceing Null Values Using Sklearn Methods"
   ]
  },
  {
   "cell_type": "code",
   "execution_count": 92,
   "id": "5f278227-cf1d-4e50-95a9-6af689e587e8",
   "metadata": {},
   "outputs": [],
   "source": [
    "data.loc[1:4,'Close'] = np.nan"
   ]
  },
  {
   "cell_type": "code",
   "execution_count": 93,
   "id": "aa0d310d-572b-41f3-8f6c-6c392f4eafa9",
   "metadata": {},
   "outputs": [
    {
     "data": {
      "text/html": [
       "<div>\n",
       "<style scoped>\n",
       "    .dataframe tbody tr th:only-of-type {\n",
       "        vertical-align: middle;\n",
       "    }\n",
       "\n",
       "    .dataframe tbody tr th {\n",
       "        vertical-align: top;\n",
       "    }\n",
       "\n",
       "    .dataframe thead th {\n",
       "        text-align: right;\n",
       "    }\n",
       "</style>\n",
       "<table border=\"1\" class=\"dataframe\">\n",
       "  <thead>\n",
       "    <tr style=\"text-align: right;\">\n",
       "      <th></th>\n",
       "      <th>sepal length (cm)</th>\n",
       "      <th>sepal width (cm)</th>\n",
       "      <th>petal length (cm)</th>\n",
       "      <th>petal width (cm)</th>\n",
       "      <th>target</th>\n",
       "      <th>Close</th>\n",
       "    </tr>\n",
       "  </thead>\n",
       "  <tbody>\n",
       "    <tr>\n",
       "      <th>145</th>\n",
       "      <td>6.7</td>\n",
       "      <td>3.0</td>\n",
       "      <td>5.2</td>\n",
       "      <td>2.3</td>\n",
       "      <td>2</td>\n",
       "      <td>NaN</td>\n",
       "    </tr>\n",
       "    <tr>\n",
       "      <th>146</th>\n",
       "      <td>6.3</td>\n",
       "      <td>2.5</td>\n",
       "      <td>5.0</td>\n",
       "      <td>1.9</td>\n",
       "      <td>2</td>\n",
       "      <td>NaN</td>\n",
       "    </tr>\n",
       "    <tr>\n",
       "      <th>147</th>\n",
       "      <td>6.5</td>\n",
       "      <td>3.0</td>\n",
       "      <td>5.2</td>\n",
       "      <td>2.0</td>\n",
       "      <td>2</td>\n",
       "      <td>NaN</td>\n",
       "    </tr>\n",
       "    <tr>\n",
       "      <th>148</th>\n",
       "      <td>6.2</td>\n",
       "      <td>3.4</td>\n",
       "      <td>5.4</td>\n",
       "      <td>2.3</td>\n",
       "      <td>2</td>\n",
       "      <td>NaN</td>\n",
       "    </tr>\n",
       "    <tr>\n",
       "      <th>149</th>\n",
       "      <td>5.9</td>\n",
       "      <td>3.0</td>\n",
       "      <td>5.1</td>\n",
       "      <td>1.8</td>\n",
       "      <td>2</td>\n",
       "      <td>NaN</td>\n",
       "    </tr>\n",
       "  </tbody>\n",
       "</table>\n",
       "</div>"
      ],
      "text/plain": [
       "     sepal length (cm)  sepal width (cm)  petal length (cm)  petal width (cm)  \\\n",
       "145                6.7               3.0                5.2               2.3   \n",
       "146                6.3               2.5                5.0               1.9   \n",
       "147                6.5               3.0                5.2               2.0   \n",
       "148                6.2               3.4                5.4               2.3   \n",
       "149                5.9               3.0                5.1               1.8   \n",
       "\n",
       "     target  Close  \n",
       "145       2    NaN  \n",
       "146       2    NaN  \n",
       "147       2    NaN  \n",
       "148       2    NaN  \n",
       "149       2    NaN  "
      ]
     },
     "execution_count": 93,
     "metadata": {},
     "output_type": "execute_result"
    }
   ],
   "source": [
    "data.tail()"
   ]
  },
  {
   "cell_type": "code",
   "execution_count": 83,
   "id": "acfc630b-b711-4d2b-a5d8-6f400b46080e",
   "metadata": {},
   "outputs": [],
   "source": [
    "from sklearn.impute import SimpleImputer"
   ]
  },
  {
   "cell_type": "code",
   "execution_count": 116,
   "id": "99254044-74df-4a6c-8b1b-2315417f62bf",
   "metadata": {},
   "outputs": [],
   "source": [
    "imputer = SimpleImputer(strategy=\"constant\", fill_value=0 )"
   ]
  },
  {
   "cell_type": "code",
   "execution_count": 117,
   "id": "535c60bf-d9a7-4153-a679-b215ac3a8f11",
   "metadata": {},
   "outputs": [],
   "source": [
    "data[['Close']] = imputer.fit_transform(data[['Close']])"
   ]
  },
  {
   "cell_type": "code",
   "execution_count": 118,
   "id": "c488de49-b869-4755-9ac1-2aafe65522e9",
   "metadata": {},
   "outputs": [
    {
     "data": {
      "text/html": [
       "<div>\n",
       "<style scoped>\n",
       "    .dataframe tbody tr th:only-of-type {\n",
       "        vertical-align: middle;\n",
       "    }\n",
       "\n",
       "    .dataframe tbody tr th {\n",
       "        vertical-align: top;\n",
       "    }\n",
       "\n",
       "    .dataframe thead th {\n",
       "        text-align: right;\n",
       "    }\n",
       "</style>\n",
       "<table border=\"1\" class=\"dataframe\">\n",
       "  <thead>\n",
       "    <tr style=\"text-align: right;\">\n",
       "      <th></th>\n",
       "      <th>sepal length (cm)</th>\n",
       "      <th>sepal width (cm)</th>\n",
       "      <th>petal length (cm)</th>\n",
       "      <th>petal width (cm)</th>\n",
       "      <th>target</th>\n",
       "      <th>Close</th>\n",
       "    </tr>\n",
       "  </thead>\n",
       "  <tbody>\n",
       "    <tr>\n",
       "      <th>145</th>\n",
       "      <td>6.7</td>\n",
       "      <td>3.0</td>\n",
       "      <td>5.2</td>\n",
       "      <td>2.3</td>\n",
       "      <td>2</td>\n",
       "      <td>0.0</td>\n",
       "    </tr>\n",
       "    <tr>\n",
       "      <th>146</th>\n",
       "      <td>6.3</td>\n",
       "      <td>2.5</td>\n",
       "      <td>5.0</td>\n",
       "      <td>1.9</td>\n",
       "      <td>2</td>\n",
       "      <td>0.0</td>\n",
       "    </tr>\n",
       "    <tr>\n",
       "      <th>147</th>\n",
       "      <td>6.5</td>\n",
       "      <td>3.0</td>\n",
       "      <td>5.2</td>\n",
       "      <td>2.0</td>\n",
       "      <td>2</td>\n",
       "      <td>0.0</td>\n",
       "    </tr>\n",
       "    <tr>\n",
       "      <th>148</th>\n",
       "      <td>6.2</td>\n",
       "      <td>3.4</td>\n",
       "      <td>5.4</td>\n",
       "      <td>2.3</td>\n",
       "      <td>2</td>\n",
       "      <td>0.0</td>\n",
       "    </tr>\n",
       "    <tr>\n",
       "      <th>149</th>\n",
       "      <td>5.9</td>\n",
       "      <td>3.0</td>\n",
       "      <td>5.1</td>\n",
       "      <td>1.8</td>\n",
       "      <td>2</td>\n",
       "      <td>0.0</td>\n",
       "    </tr>\n",
       "  </tbody>\n",
       "</table>\n",
       "</div>"
      ],
      "text/plain": [
       "     sepal length (cm)  sepal width (cm)  petal length (cm)  petal width (cm)  \\\n",
       "145                6.7               3.0                5.2               2.3   \n",
       "146                6.3               2.5                5.0               1.9   \n",
       "147                6.5               3.0                5.2               2.0   \n",
       "148                6.2               3.4                5.4               2.3   \n",
       "149                5.9               3.0                5.1               1.8   \n",
       "\n",
       "     target  Close  \n",
       "145       2    0.0  \n",
       "146       2    0.0  \n",
       "147       2    0.0  \n",
       "148       2    0.0  \n",
       "149       2    0.0  "
      ]
     },
     "execution_count": 118,
     "metadata": {},
     "output_type": "execute_result"
    }
   ],
   "source": [
    "data.tail()"
   ]
  },
  {
   "cell_type": "code",
   "execution_count": 119,
   "id": "da237e38-01fe-4d00-a63d-f35f6d94bbae",
   "metadata": {},
   "outputs": [],
   "source": [
    "# apply label encoding and one hot encoding"
   ]
  },
  {
   "cell_type": "code",
   "execution_count": 120,
   "id": "7edb5985-4635-4845-a0a7-4f7ffd2c7ea2",
   "metadata": {},
   "outputs": [],
   "source": [
    "from sklearn.preprocessing import LabelEncoder"
   ]
  },
  {
   "cell_type": "code",
   "execution_count": 121,
   "id": "89a1e10a-425f-49af-9e89-ac480367ef4e",
   "metadata": {},
   "outputs": [],
   "source": [
    "le = LabelEncoder()"
   ]
  },
  {
   "cell_type": "code",
   "execution_count": 126,
   "id": "6659662c-d1f5-469c-a865-3af23a870bea",
   "metadata": {},
   "outputs": [],
   "source": [
    "data['3.0'] = le.fit_transform(data['sepal length (cm)'])"
   ]
  },
  {
   "cell_type": "code",
   "execution_count": 148,
   "id": "79fdb8ff-6941-4adb-8056-24024732d2ad",
   "metadata": {},
   "outputs": [
    {
     "name": "stdout",
     "output_type": "stream",
     "text": [
      "0       8\n",
      "1       6\n",
      "2       4\n",
      "3       3\n",
      "4       7\n",
      "       ..\n",
      "145    24\n",
      "146    20\n",
      "147    22\n",
      "148    19\n",
      "149    16\n",
      "Name: 3.0, Length: 150, dtype: int64\n"
     ]
    }
   ],
   "source": [
    "print(data['3.0'])\n"
   ]
  },
  {
   "cell_type": "code",
   "execution_count": 128,
   "id": "c4ceb30b-603d-4436-834c-1de751a7c3fe",
   "metadata": {},
   "outputs": [],
   "source": [
    "from sklearn.preprocessing import OneHotEncoder"
   ]
  },
  {
   "cell_type": "code",
   "execution_count": 137,
   "id": "1306d4c6-b50a-47a3-9062-43fa12e614a9",
   "metadata": {},
   "outputs": [],
   "source": [
    "encoder = OneHotEncoder()"
   ]
  },
  {
   "cell_type": "code",
   "execution_count": 144,
   "id": "f470b67e-354a-4e32-bdfd-7ae5e014d4b2",
   "metadata": {},
   "outputs": [],
   "source": [
    "encoded = encoder.fit_transform(data[['3.0']]).toarray()\n"
   ]
  },
  {
   "cell_type": "code",
   "execution_count": 146,
   "id": "55f44545-220e-41c0-98b5-231c8a043972",
   "metadata": {},
   "outputs": [
    {
     "name": "stdout",
     "output_type": "stream",
     "text": [
      "[[0. 0. 0. ... 0. 0. 0.]\n",
      " [0. 0. 0. ... 0. 0. 0.]\n",
      " [0. 0. 0. ... 0. 0. 0.]\n",
      " ...\n",
      " [0. 0. 0. ... 0. 0. 0.]\n",
      " [0. 0. 0. ... 0. 0. 0.]\n",
      " [0. 0. 0. ... 0. 0. 0.]]\n"
     ]
    }
   ],
   "source": [
    "print(encoded)"
   ]
  },
  {
   "cell_type": "code",
   "execution_count": 156,
   "id": "e4a5bb0e-a14a-47bf-bb62-4141946808a0",
   "metadata": {},
   "outputs": [],
   "source": [
    "# using standard and minmaxscaler"
   ]
  },
  {
   "cell_type": "code",
   "execution_count": 149,
   "id": "b01d2398-c460-4c72-8da2-01243217309c",
   "metadata": {},
   "outputs": [],
   "source": [
    "from sklearn.preprocessing import StandardScaler"
   ]
  },
  {
   "cell_type": "code",
   "execution_count": 150,
   "id": "16eb973c-7c09-47c1-b179-31f16e9b359f",
   "metadata": {},
   "outputs": [],
   "source": [
    "scaler = StandardScaler()"
   ]
  },
  {
   "cell_type": "code",
   "execution_count": 154,
   "id": "ef3d4f3b-2685-4c26-a7ec-aa3aca18693d",
   "metadata": {},
   "outputs": [],
   "source": [
    "data[['3.0','Close']] = scaler.fit_transform(data[['3.0', 'Close']])"
   ]
  },
  {
   "cell_type": "code",
   "execution_count": 155,
   "id": "fd59bcaa-0632-4c1f-84a2-d4dd33a06c09",
   "metadata": {},
   "outputs": [
    {
     "name": "stdout",
     "output_type": "stream",
     "text": [
      "          3.0  Close\n",
      "0   -0.906512    0.0\n",
      "1   -1.151958    0.0\n",
      "2   -1.397404    0.0\n",
      "3   -1.520126    0.0\n",
      "4   -1.029235    0.0\n",
      "..        ...    ...\n",
      "145  1.057052    0.0\n",
      "146  0.566161    0.0\n",
      "147  0.811607    0.0\n",
      "148  0.443438    0.0\n",
      "149  0.075270    0.0\n",
      "\n",
      "[150 rows x 2 columns]\n"
     ]
    }
   ],
   "source": [
    "print(data[['3.0','Close']])"
   ]
  },
  {
   "cell_type": "markdown",
   "id": "6ff7680e-c3f9-4ccc-a51d-1c83976590e7",
   "metadata": {},
   "source": [
    "# Basis ml algorithums"
   ]
  },
  {
   "cell_type": "code",
   "execution_count": 157,
   "id": "6e5ec638-ce04-4e35-b99e-34e496de87b4",
   "metadata": {},
   "outputs": [],
   "source": [
    "from sklearn.linear_model import LogisticRegression\n",
    "from sklearn.metrics import accuracy_score"
   ]
  },
  {
   "cell_type": "code",
   "execution_count": 163,
   "id": "1633feec-51cc-4903-ba00-726517251a09",
   "metadata": {},
   "outputs": [
    {
     "data": {
      "text/html": [
       "<div>\n",
       "<style scoped>\n",
       "    .dataframe tbody tr th:only-of-type {\n",
       "        vertical-align: middle;\n",
       "    }\n",
       "\n",
       "    .dataframe tbody tr th {\n",
       "        vertical-align: top;\n",
       "    }\n",
       "\n",
       "    .dataframe thead th {\n",
       "        text-align: right;\n",
       "    }\n",
       "</style>\n",
       "<table border=\"1\" class=\"dataframe\">\n",
       "  <thead>\n",
       "    <tr style=\"text-align: right;\">\n",
       "      <th></th>\n",
       "      <th>Unnamed: 0</th>\n",
       "      <th>Adj Close</th>\n",
       "      <th>Close</th>\n",
       "      <th>High</th>\n",
       "      <th>Low</th>\n",
       "      <th>Open</th>\n",
       "      <th>Volume</th>\n",
       "    </tr>\n",
       "  </thead>\n",
       "  <tbody>\n",
       "    <tr>\n",
       "      <th>3119</th>\n",
       "      <td>1993-04-15</td>\n",
       "      <td>0.343492</td>\n",
       "      <td>0.001439</td>\n",
       "      <td>0.430804</td>\n",
       "      <td>0.417411</td>\n",
       "      <td>0.430804</td>\n",
       "      <td>218702400</td>\n",
       "    </tr>\n",
       "    <tr>\n",
       "      <th>5054</th>\n",
       "      <td>2000-12-11</td>\n",
       "      <td>0.228774</td>\n",
       "      <td>0.000858</td>\n",
       "      <td>0.274554</td>\n",
       "      <td>0.265625</td>\n",
       "      <td>0.271205</td>\n",
       "      <td>332511200</td>\n",
       "    </tr>\n",
       "    <tr>\n",
       "      <th>8500</th>\n",
       "      <td>2014-08-26</td>\n",
       "      <td>22.370623</td>\n",
       "      <td>0.097205</td>\n",
       "      <td>25.375000</td>\n",
       "      <td>25.215000</td>\n",
       "      <td>25.355000</td>\n",
       "      <td>132608000</td>\n",
       "    </tr>\n",
       "    <tr>\n",
       "      <th>3584</th>\n",
       "      <td>1995-02-15</td>\n",
       "      <td>0.317820</td>\n",
       "      <td>0.001278</td>\n",
       "      <td>0.388393</td>\n",
       "      <td>0.379464</td>\n",
       "      <td>0.386161</td>\n",
       "      <td>184475200</td>\n",
       "    </tr>\n",
       "    <tr>\n",
       "      <th>3664</th>\n",
       "      <td>1995-06-12</td>\n",
       "      <td>0.330752</td>\n",
       "      <td>0.001333</td>\n",
       "      <td>0.397321</td>\n",
       "      <td>0.391741</td>\n",
       "      <td>0.392857</td>\n",
       "      <td>212116800</td>\n",
       "    </tr>\n",
       "  </tbody>\n",
       "</table>\n",
       "</div>"
      ],
      "text/plain": [
       "      Unnamed: 0  Adj Close     Close       High        Low       Open  \\\n",
       "3119  1993-04-15   0.343492  0.001439   0.430804   0.417411   0.430804   \n",
       "5054  2000-12-11   0.228774  0.000858   0.274554   0.265625   0.271205   \n",
       "8500  2014-08-26  22.370623  0.097205  25.375000  25.215000  25.355000   \n",
       "3584  1995-02-15   0.317820  0.001278   0.388393   0.379464   0.386161   \n",
       "3664  1995-06-12   0.330752  0.001333   0.397321   0.391741   0.392857   \n",
       "\n",
       "         Volume  \n",
       "3119  218702400  \n",
       "5054  332511200  \n",
       "8500  132608000  \n",
       "3584  184475200  \n",
       "3664  212116800  "
      ]
     },
     "execution_count": 163,
     "metadata": {},
     "output_type": "execute_result"
    }
   ],
   "source": [
    "X_train.head()"
   ]
  },
  {
   "cell_type": "code",
   "execution_count": null,
   "id": "fb5cb1b8-535c-4663-8da8-e84565c76177",
   "metadata": {},
   "outputs": [],
   "source": [
    "# logistic regresion"
   ]
  },
  {
   "cell_type": "code",
   "execution_count": 247,
   "id": "88820aad-5cdb-4eb8-8a81-0ff7dd4a814b",
   "metadata": {},
   "outputs": [],
   "source": [
    "X = data.drop(\"target\", axis=1)"
   ]
  },
  {
   "cell_type": "code",
   "execution_count": 249,
   "id": "1d61c01d-b572-4059-a7de-a056214bbe4d",
   "metadata": {},
   "outputs": [],
   "source": [
    "y = data[\"target\"]"
   ]
  },
  {
   "cell_type": "code",
   "execution_count": 252,
   "id": "089b04d7-8f93-4198-a82c-0cc7783f2e12",
   "metadata": {},
   "outputs": [],
   "source": [
    "X_train, X_test, y_train, y_test = train_test_split(X, y, test_size=0.1, random_state=34)"
   ]
  },
  {
   "cell_type": "code",
   "execution_count": 254,
   "id": "2e31db61-b525-400c-b9df-1abdc21071c5",
   "metadata": {},
   "outputs": [],
   "source": [
    "model = LogisticRegression(max_iter=1000)\n",
    "model.fit(X_train, y_train)\n",
    "y_pred = model.predict(X_test)"
   ]
  },
  {
   "cell_type": "code",
   "execution_count": 255,
   "id": "729dcf61-3c9f-45e6-beb8-bcee90c43f0a",
   "metadata": {},
   "outputs": [
    {
     "name": "stdout",
     "output_type": "stream",
     "text": [
      "1.0\n"
     ]
    }
   ],
   "source": [
    "print(accuracy_score(y_test, y_pred))"
   ]
  },
  {
   "cell_type": "code",
   "execution_count": null,
   "id": "47e1d699-99cc-448b-bccc-c448a4df93c6",
   "metadata": {},
   "outputs": [],
   "source": [
    "#Decision Tree"
   ]
  },
  {
   "cell_type": "code",
   "execution_count": 256,
   "id": "8d844061-1f53-4a8a-9ca6-c28600ace9f1",
   "metadata": {},
   "outputs": [],
   "source": [
    "from sklearn.tree import DecisionTreeClassifier\n",
    "\n",
    "model = DecisionTreeClassifier()\n",
    "model.fit(X_train, y_train)\n",
    "y_pred = model.predict(X_test)"
   ]
  },
  {
   "cell_type": "code",
   "execution_count": 260,
   "id": "6f516bcc-f6a4-4f7e-a1a2-c2f65776cf39",
   "metadata": {},
   "outputs": [
    {
     "name": "stdout",
     "output_type": "stream",
     "text": [
      "0.9333333333333333\n"
     ]
    }
   ],
   "source": [
    "print(accuracy_score(y_test, y_pred))"
   ]
  },
  {
   "cell_type": "code",
   "execution_count": 258,
   "id": "da27bb0e-54a0-4c9e-bbbc-9586d25cedbe",
   "metadata": {},
   "outputs": [],
   "source": [
    "#K-Nearest Neighbors"
   ]
  },
  {
   "cell_type": "code",
   "execution_count": 261,
   "id": "3358cd50-710e-4002-ae04-0f33dbbc69ed",
   "metadata": {},
   "outputs": [],
   "source": [
    "from sklearn.neighbors import KNeighborsClassifier\n",
    "\n",
    "model = KNeighborsClassifier(n_neighbors=5)\n",
    "model.fit(X_train, y_train)\n",
    "y_pred = model.predict(X_test)"
   ]
  },
  {
   "cell_type": "code",
   "execution_count": 262,
   "id": "f7c3c72b-351c-4f48-9fcc-2469e2f7a914",
   "metadata": {},
   "outputs": [
    {
     "name": "stdout",
     "output_type": "stream",
     "text": [
      "0.9333333333333333\n"
     ]
    }
   ],
   "source": [
    "print(accuracy_score(y_test, y_pred))"
   ]
  },
  {
   "cell_type": "code",
   "execution_count": 263,
   "id": "2d6c2e3f-788f-43b4-babb-bef5ebeac4a1",
   "metadata": {},
   "outputs": [],
   "source": [
    "# linear Regression"
   ]
  },
  {
   "cell_type": "code",
   "execution_count": 278,
   "id": "fbdec874-79ad-4d36-84a9-fc9e208dac39",
   "metadata": {},
   "outputs": [],
   "source": [
    "from sklearn.linear_model import LinearRegression\n",
    "\n",
    "reg_model = LinearRegression()\n",
    "reg_model.fit(X_train, y_train)\n",
    "y_pred = reg_model.predict(X_test)"
   ]
  },
  {
   "cell_type": "code",
   "execution_count": 287,
   "id": "78927f4a-83dd-45ba-93a4-76a0c459a870",
   "metadata": {},
   "outputs": [
    {
     "name": "stdout",
     "output_type": "stream",
     "text": [
      "0.9333333333333333\n"
     ]
    }
   ],
   "source": [
    "print(accuracy_score(y_test, y_pred))"
   ]
  },
  {
   "cell_type": "markdown",
   "id": "d1d41395-30f0-495c-91d7-af53e60ecf04",
   "metadata": {},
   "source": [
    "# Model Evalution"
   ]
  },
  {
   "cell_type": "code",
   "execution_count": 270,
   "id": "0f779c18-97c0-48dd-b5ce-16be0e7d54d2",
   "metadata": {},
   "outputs": [],
   "source": [
    "# Accuracy,prcision,recall,f1-score"
   ]
  },
  {
   "cell_type": "code",
   "execution_count": 271,
   "id": "2f26f113-dcfb-4296-9ceb-99a5644a2e0e",
   "metadata": {},
   "outputs": [],
   "source": [
    "from sklearn.metrics import accuracy_score, precision_score, recall_score, f1_score, confusion_matrix"
   ]
  },
  {
   "cell_type": "code",
   "execution_count": 285,
   "id": "2d47d9b0-3565-4a70-a1e0-d6e62fa74207",
   "metadata": {},
   "outputs": [],
   "source": [
    "y_pred_prob = model.predict_proba(X_test)"
   ]
  },
  {
   "cell_type": "code",
   "execution_count": 286,
   "id": "bce75276-7ad1-4b79-9e91-f4f9be5f2c2d",
   "metadata": {},
   "outputs": [],
   "source": [
    "y_pred = np.argmax(y_pred_prob, axis=1)"
   ]
  },
  {
   "cell_type": "code",
   "execution_count": 288,
   "id": "4d6d8d0c-47be-4cfb-be52-9f8bd529b322",
   "metadata": {},
   "outputs": [],
   "source": [
    "accuracy = accuracy_score(y_test, y_pred)"
   ]
  },
  {
   "cell_type": "code",
   "execution_count": 290,
   "id": "8e7ab126-3b4b-4d43-b66d-916db9114617",
   "metadata": {},
   "outputs": [],
   "source": [
    "#accuracy"
   ]
  },
  {
   "cell_type": "code",
   "execution_count": 289,
   "id": "c03afb2b-1ade-4a53-b317-7e1f190f9ce5",
   "metadata": {},
   "outputs": [
    {
     "name": "stdout",
     "output_type": "stream",
     "text": [
      "0.9333333333333333\n"
     ]
    }
   ],
   "source": [
    "print(accuracy)"
   ]
  },
  {
   "cell_type": "code",
   "execution_count": 291,
   "id": "8a385971-0520-49c5-9475-a72cb00931cc",
   "metadata": {},
   "outputs": [],
   "source": [
    "# precision"
   ]
  },
  {
   "cell_type": "code",
   "execution_count": 295,
   "id": "8c8f5dcd-9e17-40fe-afcb-af0759e7a2aa",
   "metadata": {},
   "outputs": [],
   "source": [
    "precision = precision_score(y_test, y_pred, average='weighted') "
   ]
  },
  {
   "cell_type": "code",
   "execution_count": 293,
   "id": "16745bcd-379d-4896-9d0a-03251b9b6475",
   "metadata": {},
   "outputs": [
    {
     "name": "stdout",
     "output_type": "stream",
     "text": [
      "0.9416666666666667\n"
     ]
    }
   ],
   "source": [
    "print(precision)"
   ]
  },
  {
   "cell_type": "code",
   "execution_count": 296,
   "id": "ac25d7ab-44f9-4a6b-8f0b-5896052a0d53",
   "metadata": {},
   "outputs": [],
   "source": [
    "# recall"
   ]
  },
  {
   "cell_type": "code",
   "execution_count": 297,
   "id": "9511db8c-f0ef-4b7c-92fc-643b1dd60efd",
   "metadata": {},
   "outputs": [],
   "source": [
    "recall = recall_score(y_test, y_pred, average='weighted')"
   ]
  },
  {
   "cell_type": "code",
   "execution_count": 298,
   "id": "4b82ae21-1a12-4667-834c-7c71be810d05",
   "metadata": {},
   "outputs": [
    {
     "name": "stdout",
     "output_type": "stream",
     "text": [
      "0.9333333333333333\n"
     ]
    }
   ],
   "source": [
    "print(recall)"
   ]
  },
  {
   "cell_type": "code",
   "execution_count": null,
   "id": "b98d4d9c-ce12-472c-9de9-6dc92a01b82d",
   "metadata": {},
   "outputs": [],
   "source": [
    "# f1"
   ]
  },
  {
   "cell_type": "code",
   "execution_count": 299,
   "id": "ab8c5f50-bd09-4d50-8b00-523184288411",
   "metadata": {},
   "outputs": [],
   "source": [
    "f1 = f1_score(y_test, y_pred, average='weighted')"
   ]
  },
  {
   "cell_type": "code",
   "execution_count": 300,
   "id": "83eb3aee-64ec-48e2-aba4-08b512d24d5e",
   "metadata": {},
   "outputs": [
    {
     "name": "stdout",
     "output_type": "stream",
     "text": [
      "0.9244444444444445\n"
     ]
    }
   ],
   "source": [
    "print(f1)"
   ]
  },
  {
   "cell_type": "code",
   "execution_count": 304,
   "id": "f1cbadb2-c1f2-430d-a3d6-f5c1e4814cb3",
   "metadata": {},
   "outputs": [],
   "source": [
    "#RMSE/MAE"
   ]
  },
  {
   "cell_type": "code",
   "execution_count": 305,
   "id": "0d78013d-0ddf-44a4-b42d-99eb0369def4",
   "metadata": {},
   "outputs": [],
   "source": [
    "from sklearn.metrics import mean_squared_error, mean_absolute_error"
   ]
  },
  {
   "cell_type": "code",
   "execution_count": 306,
   "id": "f37f6224-f9f9-40f7-8c4d-77ce88fbade8",
   "metadata": {},
   "outputs": [],
   "source": [
    "mse = mean_squared_error(y_test, y_pred)\n",
    "rmse = np.sqrt(mse)\n",
    "mae = mean_absolute_error(y_test, y_pred)"
   ]
  },
  {
   "cell_type": "code",
   "execution_count": 307,
   "id": "ea68c437-bfa3-4fbc-a8a1-68a922cac5ce",
   "metadata": {},
   "outputs": [
    {
     "name": "stdout",
     "output_type": "stream",
     "text": [
      "0.2581988897471611\n"
     ]
    }
   ],
   "source": [
    "print(rmse)"
   ]
  },
  {
   "cell_type": "code",
   "execution_count": 308,
   "id": "80308710-ea7f-4011-a058-0a040314ed23",
   "metadata": {},
   "outputs": [
    {
     "name": "stdout",
     "output_type": "stream",
     "text": [
      "0.06666666666666667\n"
     ]
    }
   ],
   "source": [
    "print(mae)"
   ]
  },
  {
   "cell_type": "code",
   "execution_count": 309,
   "id": "0a0c5b9e-b4e4-4e1a-9085-9eaa6feb2ff0",
   "metadata": {},
   "outputs": [],
   "source": [
    "# confusion matrix"
   ]
  },
  {
   "cell_type": "code",
   "execution_count": 310,
   "id": "bfae0458-05b8-4de1-bbb9-b6b8781b9365",
   "metadata": {},
   "outputs": [],
   "source": [
    "cm = confusion_matrix(y_test, y_pred)"
   ]
  },
  {
   "cell_type": "code",
   "execution_count": 311,
   "id": "af7a88ed-f798-48a1-9358-6c472a8ac2ec",
   "metadata": {},
   "outputs": [
    {
     "name": "stdout",
     "output_type": "stream",
     "text": [
      "[[6 0 0]\n",
      " [0 7 0]\n",
      " [0 1 1]]\n"
     ]
    }
   ],
   "source": [
    "print(cm)"
   ]
  },
  {
   "cell_type": "code",
   "execution_count": null,
   "id": "b923258a-199a-4ab4-be13-769afcf89c29",
   "metadata": {},
   "outputs": [],
   "source": [
    "I learn many thing from this task\n",
    " 1. how to use pandas\n",
    " 2. how to solve error\n",
    " 3. how machine learning work\n",
    " 4 it is a intreasting and as well as difficult task for me as first time jupiter.py user  "
   ]
  }
 ],
 "metadata": {
  "kernelspec": {
   "display_name": "Python 3 (ipykernel)",
   "language": "python",
   "name": "python3"
  },
  "language_info": {
   "codemirror_mode": {
    "name": "ipython",
    "version": 3
   },
   "file_extension": ".py",
   "mimetype": "text/x-python",
   "name": "python",
   "nbconvert_exporter": "python",
   "pygments_lexer": "ipython3",
   "version": "3.13.5"
  }
 },
 "nbformat": 4,
 "nbformat_minor": 5
}
